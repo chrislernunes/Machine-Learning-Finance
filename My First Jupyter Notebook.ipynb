{
 "cells": [
  {
   "cell_type": "markdown",
   "metadata": {
    "id": "PCC8VAR1vNIr"
   },
   "source": [
    "# Notebook Instructions\n",
    "\n",
    "1. All the <u>code and data files</u> used in this course are available in the downloadable unit of the <u>last section of this course</u>.\n",
    "2. You can run the notebook document sequentially (one cell at a time) by pressing **shift + enter**. \n",
    "3. While a cell is running, a [*] is shown on the left. After the cell is run, the output will appear on the next line.\n",
    "\n",
    "This course is based on specific versions of python packages. You can find the details of the packages in <a href='https://quantra.quantinsti.com/quantra-notebook' target=\"_blank\" >this manual</a>."
   ]
  },
  {
   "cell_type": "markdown",
   "metadata": {
    "id": "l837hFEHvNIz"
   },
   "source": [
    "## My First Jupyter Notebook\n",
    "\n",
    "Python uses a simple syntax which makes it very easy for someone learning to program for the first time. This notebook is comprehensively designed to help you get familiarised with the basics of Python.\n",
    "\n",
    "In this notebook, you will learn about the following:\n",
    "\n",
    "1. [What is Programming?](#what-is-programming)\n",
    "2. [Introduction to Python Programming](#python-programming)\n",
    "3. [Code Comments](#code-comments)\n",
    "4. [Print Statement](#print)\n",
    "5. [Variables](#variables)\n",
    "6. [Indentation](#indentation)\n",
    "\n",
    "<a id='what-is-programming'></a> \n",
    "## What is Programming?\n",
    "\n",
    "Programming is the way of telling a machine what to do. This machine might be your computer, smartphone, or tablet. The task might be something as simple as noting down today’s date or capturing information about the Earth’s atmosphere on a satellite. Programming has a lot of alias names and they’re used interchangeably. It goes by programming, developing, or coding all of which involves creating software that gets a machine to do what you want it to do.\n",
    "\n",
    "<a id='python-programming'></a> \n",
    "## Introduction to Python Programming\n",
    "Python places more weight on coding productivity and code readability. Python makes use of simple syntax which looks like written English. Hence, the syntax is easy to remember. Python is a portable language. Python can be installed and run on any computer.\n",
    "\n",
    "Python coding is a lot of fun and is easy. Take this Python code for an example:"
   ]
  },
  {
   "cell_type": "code",
   "execution_count": 1,
   "metadata": {
    "id": "xDxt4EJkvNI4",
    "outputId": "ee2d4494-e02e-4646-f04b-98f041281906"
   },
   "outputs": [
    {
     "name": "stdout",
     "output_type": "stream",
     "text": [
      "5\n"
     ]
    }
   ],
   "source": [
    "x = 2\n",
    "y = 3\n",
    "sum = x + y\n",
    "print(sum)"
   ]
  },
  {
   "cell_type": "markdown",
   "metadata": {
    "id": "FuSLK18JYBv_"
   },
   "source": [
    "Even without any coding background, you can easily make out that the code adds up two numbers and prints it. You may modify the code below and try different mathematical operations on different values. Press <b>Shift + Enter</b> to run the code cells."
   ]
  },
  {
   "cell_type": "code",
   "execution_count": 2,
   "metadata": {
    "id": "gOnGgBijYGUL",
    "outputId": "87cc019c-f212-411a-a3b6-fdebbf244e79"
   },
   "outputs": [
    {
     "name": "stdout",
     "output_type": "stream",
     "text": [
      "6\n"
     ]
    }
   ],
   "source": [
    "# Replace ___ (blank space) with some number in line 2 & 3\n",
    "# x = ___\n",
    "# y = ___\n",
    "\n",
    "# Change the * operator (multiplication) to another operator such as +, -, /\n",
    "mul = x * y\n",
    "print(mul)"
   ]
  },
  {
   "cell_type": "markdown",
   "metadata": {
    "id": "A3x8ERd0vNI4"
   },
   "source": [
    "\n",
    "\n",
    "<a id='code-comments'></a> \n",
    "## Code Comments\n",
    "\n",
    "Comments are the notes made by a programmer in the program. It explains the code in simple English language, which makes the code readable/understandable. Comments are the non-executable part of the program and are ignored when the program is run. Thus comments are not only used for including an explanation in the program but it is also used to remove any part of the program that you do not want to execute.\n",
    "\n",
    "In Python, a comment is created using a hash (`#`) symbol.\n",
    "\n",
    "```python\n",
    "# Insert comment here\n",
    "```\n",
    "\n",
    "Including a `#` in a line of code will comment out everything that follows it."
   ]
  },
  {
   "cell_type": "code",
   "execution_count": 3,
   "metadata": {
    "id": "xIoBQz4bWVOP"
   },
   "outputs": [],
   "source": [
    "# This is a comment\n",
    "# It is used to add notes in a program\n",
    "# Anything following the first # is not executed while running the code"
   ]
  },
  {
   "cell_type": "markdown",
   "metadata": {
    "id": "ieZ_j-abWVOP"
   },
   "source": [
    "You can also use text enclosed in triple quotes as comments.\n",
    "\n",
    "```python\n",
    "\"\"\" This is also a comment.\n",
    "Anything enclosed within triple quotes is also not executed while running the code.\n",
    "\"\"\"\n",
    "```\n",
    "\n",
    "They are also called multi-line comments."
   ]
  },
  {
   "cell_type": "code",
   "execution_count": 4,
   "metadata": {
    "colab": {
     "base_uri": "https://localhost:8080/",
     "height": 35
    },
    "id": "NHXiKrvWWVOQ",
    "outputId": "1f868071-7062-4e83-d549-b8b5cb43f760"
   },
   "outputs": [
    {
     "data": {
      "text/plain": [
       "' This is first line of a multi-line comment.\\nThis is the second line of a multi-line comment. '"
      ]
     },
     "execution_count": 4,
     "metadata": {},
     "output_type": "execute_result"
    }
   ],
   "source": [
    "\"\"\" This is first line of a multi-line comment.\n",
    "This is the second line of a multi-line comment. \"\"\""
   ]
  },
  {
   "cell_type": "markdown",
   "metadata": {
    "id": "JfFA8cx7WVOQ"
   },
   "source": [
    "You should read the comments within each code cell (whenever present). They will provide explanations of what is happening in the code.\n",
    "\n",
    "<a id='print'></a> \n",
    "## Print Statement\n",
    "\n",
    "### Hello World program\n",
    "\n",
    "How would you make Python print \"Hello World\" for you? Well, it's never been this easy, just use the <b> print </b> command."
   ]
  },
  {
   "cell_type": "code",
   "execution_count": 5,
   "metadata": {
    "id": "v_Oi4PtgvNI1",
    "outputId": "af2e4a6a-4096-4402-f15f-4f09193b5e75"
   },
   "outputs": [
    {
     "name": "stdout",
     "output_type": "stream",
     "text": [
      "Hello World!\n"
     ]
    }
   ],
   "source": [
    "print(\"Hello World!\")"
   ]
  },
  {
   "cell_type": "markdown",
   "metadata": {
    "id": "p3sInuA-TR9Y"
   },
   "source": [
    "Try it for yourself."
   ]
  },
  {
   "cell_type": "code",
   "execution_count": 6,
   "metadata": {
    "colab": {
     "base_uri": "https://localhost:8080/"
    },
    "id": "ccS-mcKxvNI3",
    "outputId": "6a442a69-2b3d-402e-edd3-1d31c1ea8e0f"
   },
   "outputs": [
    {
     "name": "stdout",
     "output_type": "stream",
     "text": [
      "My name is ___________\n",
      "I am new to Python programming!\n",
      "Python is cool!\n"
     ]
    }
   ],
   "source": [
    "# Type your name\n",
    "print(\"My name is ___________\")\n",
    "\n",
    "# You may try other variations\n",
    "print(\"I am new to Python programming!\")\n",
    "print(\"Python is cool!\")\n",
    "\n",
    "# Add more print statements\n",
    "\n",
    "\n"
   ]
  },
  {
   "cell_type": "markdown",
   "metadata": {
    "id": "90wj4JOqvNI5"
   },
   "source": [
    "<a id='variables'></a> \n",
    "## Variables\n",
    "\n",
    "Much like maths, variables in coding is also used to store values. These values can be repeatedly used in the code. In Python, a variable can store different data types.\n",
    "\n",
    "You will learn about integers, float, booleans, and strings in this notebook.\n",
    "\n",
    "### Integers\n",
    "\n",
    "An integer in programming is exactly what it is in mathematics, a whole number. It can either be positive or negative. You will use the `print` function to display the values of the variables. The type of the variable will be displayed using the `type` function."
   ]
  },
  {
   "cell_type": "code",
   "execution_count": 7,
   "metadata": {
    "id": "-or9IALBvNI5",
    "outputId": "833f4d15-056d-4181-b460-0d58d325f7b8"
   },
   "outputs": [
    {
     "name": "stdout",
     "output_type": "stream",
     "text": [
      "100\n"
     ]
    },
    {
     "data": {
      "text/plain": [
       "int"
      ]
     },
     "execution_count": 7,
     "metadata": {},
     "output_type": "execute_result"
    }
   ],
   "source": [
    "my_integer = 100\n",
    "print(my_integer)\n",
    "type(my_integer)"
   ]
  },
  {
   "cell_type": "markdown",
   "metadata": {
    "id": "q0mVZRPOvNI5"
   },
   "source": [
    "One thing to keep in mind, the equal '=' sign used while assigning a value to a variable. It should not be read as 'equal to'. It should be read or interpreted as \"is set to\". The name of the variables is case-sensitive. This means if you say `my_integer` and `My_Integer`, these two will be different variables entirely."
   ]
  },
  {
   "cell_type": "code",
   "execution_count": 8,
   "metadata": {
    "colab": {
     "base_uri": "https://localhost:8080/"
    },
    "id": "mJ21GK5WvNI6",
    "outputId": "44a2e9c2-b06d-4fd8-fda1-8114b6e0e0d1"
   },
   "outputs": [
    {
     "name": "stdout",
     "output_type": "stream",
     "text": [
      "The value of my_integer is  100\n",
      "The value of My_Integer is  200\n"
     ]
    }
   ],
   "source": [
    "# Python is case sensitive language\n",
    "my_integer = 100\n",
    "My_Integer = 200\n",
    "print(\"The value of my_integer is \", my_integer)\n",
    "print(\"The value of My_Integer is \", My_Integer)"
   ]
  },
  {
   "cell_type": "markdown",
   "metadata": {
    "id": "_aQk1fJtWVOT"
   },
   "source": [
    "### Float\n",
    "\n",
    "A real number (in mathematics) is called a float in programming. In Python, there are two ways to define a float:\n",
    "1. Simply set the value as a decimal point.\n",
    "```python\n",
    "my_float = 5.0\n",
    "```\n",
    "2. Specify that the value is a float.\n",
    "```python\n",
    "my_float = float(5)\n",
    "```"
   ]
  },
  {
   "cell_type": "code",
   "execution_count": 9,
   "metadata": {
    "id": "BTt72Cm3WVOU",
    "outputId": "ca90444a-781b-4724-e1e5-964cb1cc6705"
   },
   "outputs": [
    {
     "name": "stdout",
     "output_type": "stream",
     "text": [
      "5.0\n"
     ]
    },
    {
     "data": {
      "text/plain": [
       "float"
      ]
     },
     "execution_count": 9,
     "metadata": {},
     "output_type": "execute_result"
    }
   ],
   "source": [
    "my_float = 5.0\n",
    "print(my_float)\n",
    "type(my_float)"
   ]
  },
  {
   "cell_type": "code",
   "execution_count": 10,
   "metadata": {
    "id": "oLnGNNkqWVOU",
    "outputId": "3c6a165b-c32e-4ff8-edce-90a68b24ec62"
   },
   "outputs": [
    {
     "name": "stdout",
     "output_type": "stream",
     "text": [
      "5.0\n"
     ]
    },
    {
     "data": {
      "text/plain": [
       "float"
      ]
     },
     "execution_count": 10,
     "metadata": {},
     "output_type": "execute_result"
    }
   ],
   "source": [
    "my_float = float(5)\n",
    "print(my_float)\n",
    "type(my_float)"
   ]
  },
  {
   "cell_type": "markdown",
   "metadata": {
    "id": "bn7LMC2OWVOU"
   },
   "source": [
    "Just like the `float()`, we have `int()` in Python. The `int()` returns the largest integer less than the number."
   ]
  },
  {
   "cell_type": "code",
   "execution_count": 11,
   "metadata": {
    "id": "41P2tn0UWVOU",
    "outputId": "9ae9f46f-4fe6-4c05-9853-7c04e2a93332"
   },
   "outputs": [
    {
     "name": "stdout",
     "output_type": "stream",
     "text": [
      "3\n"
     ]
    },
    {
     "data": {
      "text/plain": [
       "int"
      ]
     },
     "execution_count": 11,
     "metadata": {},
     "output_type": "execute_result"
    }
   ],
   "source": [
    "my_int = int(3.94159)\n",
    "print(my_int)\n",
    "type(my_int)"
   ]
  },
  {
   "cell_type": "markdown",
   "metadata": {
    "id": "CUWDt-h-WVOV"
   },
   "source": [
    "### Strings\n",
    "\n",
    "Strings are the data enclosed within a single quote ('') or double quotes (\"\"). Using strings, you can include text as a variable."
   ]
  },
  {
   "cell_type": "code",
   "execution_count": 12,
   "metadata": {
    "id": "Mhim-_QNWVOV",
    "outputId": "593ca88d-9f4e-4c6a-cca3-37ece8427495"
   },
   "outputs": [
    {
     "name": "stdout",
     "output_type": "stream",
     "text": [
      "This is a string with single quotes.\n",
      "This is a string with double quotes.\n"
     ]
    }
   ],
   "source": [
    "my_string = 'This is a string with single quotes.'\n",
    "print(my_string)\n",
    "my_string = \"This is a string with double quotes.\"\n",
    "print(my_string)"
   ]
  },
  {
   "cell_type": "markdown",
   "metadata": {
    "id": "QQMsCBYQWVOV"
   },
   "source": [
    "### Booleans\n",
    "\n",
    "Booleans are the variables that can take only two values, either `True` or `False`. They are also referred to as bools."
   ]
  },
  {
   "cell_type": "code",
   "execution_count": 13,
   "metadata": {
    "id": "SKccCaA5WVOV",
    "outputId": "d0f954df-b425-440f-9fcd-23a15a2b644a"
   },
   "outputs": [
    {
     "name": "stdout",
     "output_type": "stream",
     "text": [
      "True\n"
     ]
    },
    {
     "data": {
      "text/plain": [
       "bool"
      ]
     },
     "execution_count": 13,
     "metadata": {},
     "output_type": "execute_result"
    }
   ],
   "source": [
    "my_bool = True\n",
    "print(my_bool)\n",
    "type(my_bool)"
   ]
  },
  {
   "cell_type": "markdown",
   "metadata": {
    "id": "7TiQmLnBWVOf"
   },
   "source": [
    "Python offers many more data types, but these are the basic ones. You will learn about a few more later.\n",
    "\n",
    "<a id='indentation'></a> \n",
    "##  Indentation\n",
    "\n",
    "Python forces you to follow proper indentation. The number of spaces in indentation can be different, but all lines of code within the same block should have the same number of spaces in the indentation.\n",
    "\n",
    "For example, the 3rd line of the code in the cell below shows incorrect indentation. Try running the code to see the error that it throws."
   ]
  },
  {
   "cell_type": "code",
   "execution_count": 14,
   "metadata": {
    "colab": {
     "base_uri": "https://localhost:8080/",
     "height": 130
    },
    "id": "wn1P2UknvNJC",
    "outputId": "924320a7-365d-4d66-ce5f-bc0e0cbb2768"
   },
   "outputs": [
    {
     "ename": "IndentationError",
     "evalue": "unexpected indent (92111261.py, line 3)",
     "output_type": "error",
     "traceback": [
      "\u001b[0;36m  File \u001b[0;32m\"/var/folders/yb/gljkvsc57dg_1q56g76pfr680000gn/T/ipykernel_4974/92111261.py\"\u001b[0;36m, line \u001b[0;32m3\u001b[0m\n\u001b[0;31m    num_sq = num ** 2\u001b[0m\n\u001b[0m    ^\u001b[0m\n\u001b[0;31mIndentationError\u001b[0m\u001b[0;31m:\u001b[0m unexpected indent\n"
     ]
    }
   ],
   "source": [
    "# Python Program to calculate the square of number\n",
    "num = 8\n",
    "    num_sq = num ** 2\n",
    "print(num_sq)"
   ]
  },
  {
   "cell_type": "markdown",
   "metadata": {
    "id": "zi2SEhiIO_8P"
   },
   "source": [
    "The error message points to the line 3 and tells you that there is an unexpected indentation. Let's remove the indentation and see what happens."
   ]
  },
  {
   "cell_type": "code",
   "execution_count": 15,
   "metadata": {
    "id": "b84cQJUCvNJC",
    "outputId": "881caeee-a19e-48d6-9309-a3d8c7af739b"
   },
   "outputs": [
    {
     "name": "stdout",
     "output_type": "stream",
     "text": [
      "64\n"
     ]
    }
   ],
   "source": [
    "# On removing the indent\n",
    "num = 8\n",
    "num_sq = num ** 2\n",
    "print(num_sq)"
   ]
  },
  {
   "cell_type": "markdown",
   "metadata": {
    "id": "7NI9eYYCvNJD"
   },
   "source": [
    "You got the result.\n",
    "\n",
    "In the upcoming units, you will learn about a operations and functions in Python. <br><br>"
   ]
  }
 ],
 "metadata": {
  "anaconda-cloud": {},
  "colab": {
   "name": "My First Jupyter Notebook.ipynb",
   "provenance": []
  },
  "kernelspec": {
   "display_name": "Python 3 (ipykernel)",
   "language": "python",
   "name": "python3"
  },
  "language_info": {
   "codemirror_mode": {
    "name": "ipython",
    "version": 3
   },
   "file_extension": ".py",
   "mimetype": "text/x-python",
   "name": "python",
   "nbconvert_exporter": "python",
   "pygments_lexer": "ipython3",
   "version": "3.9.5"
  }
 },
 "nbformat": 4,
 "nbformat_minor": 1
}
